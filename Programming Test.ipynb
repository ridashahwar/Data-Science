{
 "cells": [
  {
   "cell_type": "code",
   "execution_count": 1,
   "metadata": {},
   "outputs": [
    {
     "data": {
      "text/plain": [
       "27"
      ]
     },
     "execution_count": 1,
     "metadata": {},
     "output_type": "execute_result"
    }
   ],
   "source": [
    "li=[11,1,2,3,10]\n",
    "sum(li)"
   ]
  },
  {
   "cell_type": "code",
   "execution_count": 5,
   "metadata": {},
   "outputs": [
    {
     "data": {
      "text/plain": [
       "True"
      ]
     },
     "execution_count": 5,
     "metadata": {},
     "output_type": "execute_result"
    }
   ],
   "source": [
    "def check_sum(list1, num):\n",
    "    for i in range(0, len(list1)):\n",
    "        for j in range(0, len(list1)):\n",
    "            if num == list1[i] + list1[j]:\n",
    "                return True    \n",
    "    return False       \n",
    "li= [11,1,2,3,10]\n",
    "num = 21\n",
    "\n",
    "check_sum(li, num)"
   ]
  },
  {
   "cell_type": "code",
   "execution_count": 6,
   "metadata": {},
   "outputs": [
    {
     "data": {
      "text/plain": [
       "False"
      ]
     },
     "execution_count": 6,
     "metadata": {},
     "output_type": "execute_result"
    }
   ],
   "source": [
    "li= [11, 1, 2, 3]\n",
    "num = 21\n",
    "\n",
    "check_sum(li, num)"
   ]
  },
  {
   "cell_type": "code",
   "execution_count": 8,
   "metadata": {},
   "outputs": [
    {
     "data": {
      "text/plain": [
       "True"
      ]
     },
     "execution_count": 8,
     "metadata": {},
     "output_type": "execute_result"
    }
   ],
   "source": [
    "def check_overlap(li):\n",
    "    li.sort(key=lambda x: x[0])\n",
    "\n",
    "    for i in range(len(li)-1):\n",
    "        if li[i][1] > li[i+1][0]:\n",
    "            return True\n",
    "\n",
    "    return False\n",
    "\n",
    "check_overlap(li=[[1,5], [8,9], [3,6]])\n"
   ]
  },
  {
   "cell_type": "code",
   "execution_count": 9,
   "metadata": {},
   "outputs": [
    {
     "data": {
      "text/plain": [
       "False"
      ]
     },
     "execution_count": 9,
     "metadata": {},
     "output_type": "execute_result"
    }
   ],
   "source": [
    "check_overlap(li=[[1,5], [5,6]])"
   ]
  },
  {
   "cell_type": "code",
   "execution_count": 29,
   "metadata": {},
   "outputs": [
    {
     "data": {
      "text/plain": [
       "['ab', 'abc', 'bc', 'bcd', 'cd', 'cde', 'de', 'def', 'ef']"
      ]
     },
     "execution_count": 29,
     "metadata": {},
     "output_type": "execute_result"
    }
   ],
   "source": [
    "def split_string(strg):\n",
    "    strg_len = len(strg)\n",
    "    output_strg = []\n",
    "    for x in range(0,len(strg)):\n",
    "        x_2 = x+2\n",
    "        x_3 = x+3\n",
    "        two_ltr_com = strg[x:x_2]\n",
    "        if(len(two_ltr_com) > 1):\n",
    "            if(two_ltr_com not in output_strg):\n",
    "                output_strg.append(two_ltr_com)\n",
    "            if(x+3 <= len(strg)):\n",
    "                three_ltr_com = strg[x:x_3]\n",
    "            if(three_ltr_com not in output_strg):\n",
    "                output_strg.append(three_ltr_com) \n",
    "    return output_strg\n",
    "\n",
    "split_string(\"abcdef\")"
   ]
  },
  {
   "cell_type": "code",
   "execution_count": 24,
   "metadata": {},
   "outputs": [
    {
     "data": {
      "text/plain": [
       "['ab', 'abc', 'bc', 'bcd', 'cd', 'cde', 'de', 'def', 'ef', 'efg', 'fg']"
      ]
     },
     "execution_count": 24,
     "metadata": {},
     "output_type": "execute_result"
    }
   ],
   "source": [
    "split_string(\"abcdefg\")"
   ]
  },
  {
   "cell_type": "code",
   "execution_count": 25,
   "metadata": {},
   "outputs": [
    {
     "data": {
      "text/plain": [
       "['ab', 'aba', 'ba', 'bab', 'abc', 'bc', 'bca', 'ca', 'cab']"
      ]
     },
     "execution_count": 25,
     "metadata": {},
     "output_type": "execute_result"
    }
   ],
   "source": [
    "split_string(\"ababcabc\")"
   ]
  },
  {
   "cell_type": "code",
   "execution_count": 26,
   "metadata": {},
   "outputs": [
    {
     "data": {
      "text/plain": [
       "['cc', 'ccc', 'cca', 'ca', 'cac', 'ac', 'acc']"
      ]
     },
     "execution_count": 26,
     "metadata": {},
     "output_type": "execute_result"
    }
   ],
   "source": [
    "split_string(\"ccccacccc\")"
   ]
  }
 ],
 "metadata": {
  "kernelspec": {
   "display_name": "Python 3",
   "language": "python",
   "name": "python3"
  },
  "language_info": {
   "codemirror_mode": {
    "name": "ipython",
    "version": 3
   },
   "file_extension": ".py",
   "mimetype": "text/x-python",
   "name": "python",
   "nbconvert_exporter": "python",
   "pygments_lexer": "ipython3",
   "version": "3.7.6"
  }
 },
 "nbformat": 4,
 "nbformat_minor": 4
}
