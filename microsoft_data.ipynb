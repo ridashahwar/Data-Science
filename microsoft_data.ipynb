{
 "cells": [
  {
   "cell_type": "code",
   "execution_count": 1,
   "metadata": {},
   "outputs": [],
   "source": [
    "import pandas as pd\n",
    "import matplotlib.pyplot as plt\n",
    "\n",
    "import warnings\n",
    "warnings.filterwarnings('ignore')\n",
    "\n",
    "microsoft_data=pd.read_csv('train.csv')\n"
   ]
  },
  {
   "cell_type": "code",
   "execution_count": 2,
   "metadata": {},
   "outputs": [
    {
     "data": {
      "text/plain": [
       "Index(['MachineIdentifier', 'ProductName', 'EngineVersion', 'AppVersion',\n",
       "       'AvSigVersion', 'IsBeta', 'RtpStateBitfield', 'IsSxsPassiveMode',\n",
       "       'DefaultBrowsersIdentifier', 'AVProductStatesIdentifier',\n",
       "       'AVProductsInstalled', 'AVProductsEnabled', 'HasTpm',\n",
       "       'CountryIdentifier', 'CityIdentifier', 'OrganizationIdentifier',\n",
       "       'GeoNameIdentifier', 'LocaleEnglishNameIdentifier', 'Platform',\n",
       "       'Processor', 'OsVer', 'OsBuild', 'OsSuite', 'OsPlatformSubRelease',\n",
       "       'OsBuildLab', 'SkuEdition', 'IsProtected', 'AutoSampleOptIn', 'PuaMode',\n",
       "       'SMode', 'IeVerIdentifier', 'SmartScreen', 'Firewall', 'UacLuaenable',\n",
       "       'Census_MDC2FormFactor', 'Census_DeviceFamily',\n",
       "       'Census_OEMNameIdentifier', 'Census_OEMModelIdentifier',\n",
       "       'Census_ProcessorCoreCount', 'Census_ProcessorManufacturerIdentifier',\n",
       "       'Census_ProcessorModelIdentifier', 'Census_ProcessorClass',\n",
       "       'Census_PrimaryDiskTotalCapacity', 'Census_PrimaryDiskTypeName',\n",
       "       'Census_SystemVolumeTotalCapacity', 'Census_HasOpticalDiskDrive',\n",
       "       'Census_TotalPhysicalRAM', 'Census_ChassisTypeName',\n",
       "       'Census_InternalPrimaryDiagonalDisplaySizeInInches',\n",
       "       'Census_InternalPrimaryDisplayResolutionHorizontal',\n",
       "       'Census_InternalPrimaryDisplayResolutionVertical',\n",
       "       'Census_PowerPlatformRoleName', 'Census_InternalBatteryType',\n",
       "       'Census_InternalBatteryNumberOfCharges', 'Census_OSVersion',\n",
       "       'Census_OSArchitecture', 'Census_OSBranch', 'Census_OSBuildNumber',\n",
       "       'Census_OSBuildRevision', 'Census_OSEdition', 'Census_OSSkuName',\n",
       "       'Census_OSInstallTypeName', 'Census_OSInstallLanguageIdentifier',\n",
       "       'Census_OSUILocaleIdentifier', 'Census_OSWUAutoUpdateOptionsName',\n",
       "       'Census_IsPortableOperatingSystem', 'Census_GenuineStateName',\n",
       "       'Census_ActivationChannel', 'Census_IsFlightingInternal',\n",
       "       'Census_IsFlightsDisabled', 'Census_FlightRing',\n",
       "       'Census_ThresholdOptIn', 'Census_FirmwareManufacturerIdentifier',\n",
       "       'Census_FirmwareVersionIdentifier', 'Census_IsSecureBootEnabled',\n",
       "       'Census_IsWIMBootEnabled', 'Census_IsVirtualDevice',\n",
       "       'Census_IsTouchEnabled', 'Census_IsPenCapable',\n",
       "       'Census_IsAlwaysOnAlwaysConnectedCapable', 'Wdft_IsGamer',\n",
       "       'Wdft_RegionIdentifier', 'HasDetections'],\n",
       "      dtype='object')"
      ]
     },
     "execution_count": 2,
     "metadata": {},
     "output_type": "execute_result"
    }
   ],
   "source": [
    "microsoft_data.columns"
   ]
  },
  {
   "cell_type": "code",
   "execution_count": 3,
   "metadata": {},
   "outputs": [
    {
     "data": {
      "text/plain": [
       "0         0.0\n",
       "1         0.0\n",
       "2         0.0\n",
       "3         1.0\n",
       "4         1.0\n",
       "         ... \n",
       "183100    1.0\n",
       "183101    0.0\n",
       "183102    1.0\n",
       "183103    0.0\n",
       "183104    NaN\n",
       "Name: HasDetections, Length: 183105, dtype: float64"
      ]
     },
     "execution_count": 3,
     "metadata": {},
     "output_type": "execute_result"
    }
   ],
   "source": [
    "microsoft_data['HasDetections']"
   ]
  },
  {
   "cell_type": "code",
   "execution_count": 4,
   "metadata": {},
   "outputs": [
    {
     "name": "stdout",
     "output_type": "stream",
     "text": [
      "p-value 2.3608142877761282e-60\n"
     ]
    }
   ],
   "source": [
    "#chisquare test between OsBuild and HasDetections\n",
    "import scipy\n",
    "\n",
    "from scipy.stats import chi2_contingency\n",
    "\n",
    "contingency_table=pd.crosstab(microsoft_data['OsBuild'],microsoft_data['HasDetections'])\n",
    "\n",
    "results=chi2_contingency(contingency_table)\n",
    "\n",
    "print('p-value',results[1])\n",
    "\n",
    "#there is some correlation\n"
   ]
  },
  {
   "cell_type": "code",
   "execution_count": 7,
   "metadata": {},
   "outputs": [
    {
     "ename": "NameError",
     "evalue": "name 'X_train' is not defined",
     "output_type": "error",
     "traceback": [
      "\u001b[1;31m---------------------------------------------------------------------------\u001b[0m",
      "\u001b[1;31mNameError\u001b[0m                                 Traceback (most recent call last)",
      "\u001b[1;32m<ipython-input-7-c673fb1e6e4d>\u001b[0m in \u001b[0;36m<module>\u001b[1;34m\u001b[0m\n\u001b[0;32m     10\u001b[0m \u001b[0mgrid\u001b[0m\u001b[1;33m=\u001b[0m\u001b[0mGridSearchCV\u001b[0m\u001b[1;33m(\u001b[0m\u001b[0mSGD\u001b[0m\u001b[1;33m,\u001b[0m\u001b[0mcv\u001b[0m\u001b[1;33m=\u001b[0m\u001b[1;36m5\u001b[0m\u001b[1;33m,\u001b[0m\u001b[0mparam_grid\u001b[0m\u001b[1;33m=\u001b[0m\u001b[0mparameter_grid\u001b[0m\u001b[1;33m)\u001b[0m\u001b[1;33m\u001b[0m\u001b[1;33m\u001b[0m\u001b[0m\n\u001b[0;32m     11\u001b[0m \u001b[1;33m\u001b[0m\u001b[0m\n\u001b[1;32m---> 12\u001b[1;33m \u001b[0mgrid\u001b[0m\u001b[1;33m.\u001b[0m\u001b[0mfit\u001b[0m\u001b[1;33m(\u001b[0m\u001b[0mX_train\u001b[0m\u001b[1;33m,\u001b[0m\u001b[0my_train\u001b[0m\u001b[1;33m)\u001b[0m\u001b[1;33m\u001b[0m\u001b[1;33m\u001b[0m\u001b[0m\n\u001b[0m",
      "\u001b[1;31mNameError\u001b[0m: name 'X_train' is not defined"
     ]
    }
   ],
   "source": [
    "from sklearn.linear_model import SGDClassifier\n",
    "from sklearn.model_selection import GridSearchCV,RandomizedSearchCV\n",
    "\n",
    "SGD=SGDClassifier()\n",
    "\n",
    "parameter_grid={'l1_ration':[0.15,0.3,0.45,0.6],\n",
    "               'alpha':[0.0001,0.001,0.01,0.1],\n",
    "               'learning_rate':['adaptive','optimal']}\n",
    "\n",
    "grid=GridSearchCV(SGD,cv=5,param_grid=parameter_grid)\n",
    "\n",
    "grid.fit(X_train,y_train)"
   ]
  },
  {
   "cell_type": "code",
   "execution_count": 9,
   "metadata": {},
   "outputs": [
    {
     "data": {
      "text/plain": [
       "1.0"
      ]
     },
     "execution_count": 9,
     "metadata": {},
     "output_type": "execute_result"
    }
   ],
   "source": [
    "import numpy as np #logistic regression sigmoid function\n",
    "\n",
    "def sigmoid(x):\n",
    "    return 1/(1+np.exp(-x))\n",
    "\n",
    "sigmoid(0)\n",
    "\n",
    "sigmoid(100)"
   ]
  },
  {
   "cell_type": "code",
   "execution_count": 11,
   "metadata": {},
   "outputs": [
    {
     "data": {
      "text/plain": [
       "[3.7200759760208356e-44,\n",
       " 1.0112214926104486e-43,\n",
       " 2.7487850079102147e-43,\n",
       " 7.47197233734299e-43,\n",
       " 2.031092662734811e-42,\n",
       " 5.5210822770285325e-42,\n",
       " 1.5007857627073948e-41,\n",
       " 4.07955866717756e-41,\n",
       " 1.1089390193121365e-40,\n",
       " 3.014408785065374e-40,\n",
       " 8.194012623990515e-40,\n",
       " 2.2273635617957434e-39,\n",
       " 6.054601895401186e-39,\n",
       " 1.6458114310822737e-38,\n",
       " 4.4737793061811207e-38,\n",
       " 1.2160992992528256e-37,\n",
       " 3.305700626760734e-37,\n",
       " 8.985825944049381e-37,\n",
       " 2.4426007377405277e-36,\n",
       " 6.639677199580733e-36,\n",
       " 1.8048513878454153e-35,\n",
       " 4.906094730649281e-35,\n",
       " 1.3336148155022612e-34,\n",
       " 3.625140919143559e-34,\n",
       " 9.854154686111257e-34,\n",
       " 2.678636961808078e-33,\n",
       " 7.281290178321645e-33,\n",
       " 1.9792598779469048e-32,\n",
       " 5.380186160021138e-32,\n",
       " 1.462486227251231e-31,\n",
       " 3.975449735908647e-31,\n",
       " 1.0806392777072785e-30,\n",
       " 2.9374821117108028e-30,\n",
       " 7.984904245686979e-30,\n",
       " 2.1705220113036392e-29,\n",
       " 5.900090541597061e-29,\n",
       " 1.603810890548638e-28,\n",
       " 4.359610000063081e-28,\n",
       " 1.1850648642339812e-27,\n",
       " 3.2213402859925163e-27,\n",
       " 8.75651076269652e-27,\n",
       " 2.3802664086944004e-26,\n",
       " 6.47023492564546e-26,\n",
       " 1.7587922024243116e-25,\n",
       " 4.780892883885469e-25,\n",
       " 1.299581425007503e-24,\n",
       " 3.532628572200807e-24,\n",
       " 9.602680054508676e-24,\n",
       " 2.6102790696677047e-23,\n",
       " 7.095474162284704e-23,\n",
       " 1.928749847963918e-22,\n",
       " 5.242885663363464e-22,\n",
       " 1.4251640827409352e-21,\n",
       " 3.873997628687187e-21,\n",
       " 1.0530617357553813e-20,\n",
       " 2.8625185805493937e-20,\n",
       " 7.781132241133797e-20,\n",
       " 2.1151310375910807e-19,\n",
       " 5.74952226429356e-19,\n",
       " 1.5628821893349888e-18,\n",
       " 4.248354255291589e-18,\n",
       " 1.1548224173015786e-17,\n",
       " 3.1391327920480296e-17,\n",
       " 8.533047625744066e-17,\n",
       " 2.319522830243569e-16,\n",
       " 6.305116760146985e-16,\n",
       " 1.71390843154201e-15,\n",
       " 4.658886145103376e-15,\n",
       " 1.2664165549094016e-14,\n",
       " 3.442477108469858e-14,\n",
       " 9.357622968839299e-14,\n",
       " 2.543665647376276e-13,\n",
       " 6.914400106935423e-13,\n",
       " 1.8795288165355508e-12,\n",
       " 5.109089028037221e-12,\n",
       " 1.3887943864771144e-11,\n",
       " 3.7751345441365816e-11,\n",
       " 1.0261879630648827e-10,\n",
       " 2.7894680920908113e-10,\n",
       " 7.582560422162385e-10,\n",
       " 2.0611536181902037e-09,\n",
       " 5.602796406145941e-09,\n",
       " 1.522997951276035e-08,\n",
       " 4.1399375473943306e-08,\n",
       " 1.12535162055095e-07,\n",
       " 3.059022269256247e-07,\n",
       " 8.315280276641321e-07,\n",
       " 2.2603242979035746e-06,\n",
       " 6.144174602214718e-06,\n",
       " 1.670142184809518e-05,\n",
       " 4.5397868702434395e-05,\n",
       " 0.00012339457598623172,\n",
       " 0.0003353501304664781,\n",
       " 0.0009110511944006454,\n",
       " 0.0024726231566347743,\n",
       " 0.0066928509242848554,\n",
       " 0.01798620996209156,\n",
       " 0.04742587317756678,\n",
       " 0.11920292202211755,\n",
       " 0.2689414213699951,\n",
       " 0.5,\n",
       " 0.7310585786300049,\n",
       " 0.8807970779778823,\n",
       " 0.9525741268224334,\n",
       " 0.9820137900379085,\n",
       " 0.9933071490757153,\n",
       " 0.9975273768433653,\n",
       " 0.9990889488055994,\n",
       " 0.9996646498695336,\n",
       " 0.9998766054240137,\n",
       " 0.9999546021312976,\n",
       " 0.999983298578152,\n",
       " 0.9999938558253978,\n",
       " 0.999997739675702,\n",
       " 0.9999991684719722,\n",
       " 0.999999694097773,\n",
       " 0.9999998874648379,\n",
       " 0.9999999586006244,\n",
       " 0.9999999847700205,\n",
       " 0.9999999943972036,\n",
       " 0.9999999979388463,\n",
       " 0.9999999992417439,\n",
       " 0.9999999997210531,\n",
       " 0.9999999998973812,\n",
       " 0.9999999999622486,\n",
       " 0.999999999986112,\n",
       " 0.999999999994891,\n",
       " 0.9999999999981204,\n",
       " 0.9999999999993086,\n",
       " 0.9999999999997455,\n",
       " 0.9999999999999065,\n",
       " 0.9999999999999656,\n",
       " 0.9999999999999873,\n",
       " 0.9999999999999953,\n",
       " 0.9999999999999982,\n",
       " 0.9999999999999993,\n",
       " 0.9999999999999998,\n",
       " 1.0,\n",
       " 1.0,\n",
       " 1.0,\n",
       " 1.0,\n",
       " 1.0,\n",
       " 1.0,\n",
       " 1.0,\n",
       " 1.0,\n",
       " 1.0,\n",
       " 1.0,\n",
       " 1.0,\n",
       " 1.0,\n",
       " 1.0,\n",
       " 1.0,\n",
       " 1.0,\n",
       " 1.0,\n",
       " 1.0,\n",
       " 1.0,\n",
       " 1.0,\n",
       " 1.0,\n",
       " 1.0,\n",
       " 1.0,\n",
       " 1.0,\n",
       " 1.0,\n",
       " 1.0,\n",
       " 1.0,\n",
       " 1.0,\n",
       " 1.0,\n",
       " 1.0,\n",
       " 1.0,\n",
       " 1.0,\n",
       " 1.0,\n",
       " 1.0,\n",
       " 1.0,\n",
       " 1.0,\n",
       " 1.0,\n",
       " 1.0,\n",
       " 1.0,\n",
       " 1.0,\n",
       " 1.0,\n",
       " 1.0,\n",
       " 1.0,\n",
       " 1.0,\n",
       " 1.0,\n",
       " 1.0,\n",
       " 1.0,\n",
       " 1.0,\n",
       " 1.0,\n",
       " 1.0,\n",
       " 1.0,\n",
       " 1.0,\n",
       " 1.0,\n",
       " 1.0,\n",
       " 1.0,\n",
       " 1.0,\n",
       " 1.0,\n",
       " 1.0,\n",
       " 1.0,\n",
       " 1.0,\n",
       " 1.0,\n",
       " 1.0,\n",
       " 1.0,\n",
       " 1.0]"
      ]
     },
     "execution_count": 11,
     "metadata": {},
     "output_type": "execute_result"
    }
   ],
   "source": [
    "input_range=range(-100,100)\n",
    "\n",
    "sigmoid_values=[]\n",
    "\n",
    "for num in input_range:\n",
    "    sigmoid_values.append(sigmoid(num))\n",
    "    \n",
    "#sigmoid_values\n",
    "    "
   ]
  },
  {
   "cell_type": "code",
   "execution_count": 12,
   "metadata": {},
   "outputs": [
    {
     "data": {
      "text/plain": [
       "[<matplotlib.lines.Line2D at 0x214e203abc8>]"
      ]
     },
     "execution_count": 12,
     "metadata": {},
     "output_type": "execute_result"
    },
    {
     "data": {
      "image/png": "[encoded data removed]",
      "text/plain": [
       "<Figure size 432x288 with 1 Axes>"
      ]
     },
     "metadata": {
      "needs_background": "light"
     },
     "output_type": "display_data"
    }
   ],
   "source": [
    "import matplotlib.pyplot as plt\n",
    "\n",
    "plt.plot(input_range,sigmoid_values)"
   ]
  }
 ],
 "metadata": {
  "kernelspec": {
   "display_name": "Python 3",
   "language": "python",
   "name": "python3"
  },
  "language_info": {
   "codemirror_mode": {
    "name": "ipython",
    "version": 3
   },
   "file_extension": ".py",
   "mimetype": "text/x-python",
   "name": "python",
   "nbconvert_exporter": "python",
   "pygments_lexer": "ipython3",
   "version": "3.7.6"
  }
 },
 "nbformat": 4,
 "nbformat_minor": 4
}
